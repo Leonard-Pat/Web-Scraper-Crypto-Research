{
 "cells": [
  {
   "attachments": {},
   "cell_type": "markdown",
   "metadata": {},
   "source": [
    "# Cleaning\n",
    "\n",
    "Tidying up some of the raw data collected by the webscraper (i.e. splitting data into multiple files, making sure dao's where properly named, removing anomalies)"
   ]
  },
  {
   "cell_type": "code",
   "execution_count": 2,
   "metadata": {},
   "outputs": [],
   "source": [
    "import pandas as pd\n",
    "import sqlite3"
   ]
  },
  {
   "cell_type": "code",
   "execution_count": 3,
   "metadata": {},
   "outputs": [],
   "source": [
    "db_connection = sqlite3.connect(\"../database/raw_data.db\")\n",
    "cursor = db_connection.cursor()"
   ]
  },
  {
   "attachments": {},
   "cell_type": "markdown",
   "metadata": {},
   "source": [
    "## Dump\n",
    "\n",
    "Some of cleaning was done manually using excel so the raw_data.db was dumped as xlsx files"
   ]
  },
  {
   "cell_type": "code",
   "execution_count": 6,
   "metadata": {},
   "outputs": [],
   "source": [
    "# read the data from the database table into a DataFrame\n",
    "df = pd.read_sql(\"SELECT * FROM Governance\", db_connection)\n",
    "\n",
    "# export the DataFrame to an Excel file\n",
    "# df.to_excel(\"governance.xlsx\")"
   ]
  },
  {
   "cell_type": "code",
   "execution_count": 7,
   "metadata": {},
   "outputs": [],
   "source": [
    "# read the data from the database table into a DataFrame\n",
    "df = pd.read_sql(\"SELECT * FROM Treasury\", db_connection)\n",
    "\n",
    "# export the DataFrame to an Excel file\n",
    "# df.to_excel(\"Treasury.xlsx\")"
   ]
  },
  {
   "cell_type": "code",
   "execution_count": 8,
   "metadata": {},
   "outputs": [],
   "source": [
    "# read the data from the database table into a DataFrame\n",
    "df = pd.read_sql(\"SELECT * FROM Tally\", db_connection)\n",
    "\n",
    "# export the DataFrame to an Excel file\n",
    "# df.to_excel(\"tally.xlsx\")"
   ]
  },
  {
   "attachments": {},
   "cell_type": "markdown",
   "metadata": {},
   "source": [
    "## New Data\n",
    "\n",
    "The clean data as then converted back into a new db (clean_data.db)"
   ]
  },
  {
   "cell_type": "code",
   "execution_count": 3,
   "metadata": {},
   "outputs": [
    {
     "data": {
      "text/plain": [
       "199"
      ]
     },
     "execution_count": 3,
     "metadata": {},
     "output_type": "execute_result"
    }
   ],
   "source": [
    "conn = sqlite3.connect('../database/clean_data.db')\n",
    "\n",
    "df = pd.read_excel('tally.xlsx')\n",
    "df.to_sql('on-chain', conn, if_exists='replace', index=False)\n",
    "\n",
    "df = pd.read_excel('governance.xlsx')\n",
    "df.to_sql('proposals', conn, if_exists='replace', index=False)\n",
    "\n",
    "df = pd.read_excel('treasury.xlsx')\n",
    "df.to_sql('treasury', conn, if_exists='replace', index=False)\n",
    "\n",
    "df = pd.read_excel('info.xlsx')\n",
    "df.to_sql('information', conn, if_exists='replace', index=False)"
   ]
  },
  {
   "cell_type": "code",
   "execution_count": 4,
   "metadata": {},
   "outputs": [],
   "source": [
    "conn.close()"
   ]
  }
 ],
 "metadata": {
  "kernelspec": {
   "display_name": "Python 3",
   "language": "python",
   "name": "python3"
  },
  "language_info": {
   "codemirror_mode": {
    "name": "ipython",
    "version": 3
   },
   "file_extension": ".py",
   "mimetype": "text/x-python",
   "name": "python",
   "nbconvert_exporter": "python",
   "pygments_lexer": "ipython3",
   "version": "3.10.1 (tags/v3.10.1:2cd268a, Dec  6 2021, 19:10:37) [MSC v.1929 64 bit (AMD64)]"
  },
  "orig_nbformat": 4,
  "vscode": {
   "interpreter": {
    "hash": "9be826744cc5714b462ad0c8de88bfa6f016a48973c6317b9546595d1685cabb"
   }
  }
 },
 "nbformat": 4,
 "nbformat_minor": 2
}
