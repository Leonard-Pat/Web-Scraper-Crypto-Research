{
 "cells": [
  {
   "attachments": {},
   "cell_type": "markdown",
   "metadata": {},
   "source": [
    "# Data Visualisation"
   ]
  },
  {
   "cell_type": "code",
   "execution_count": 2,
   "metadata": {},
   "outputs": [],
   "source": [
    "import pandas as pd\n",
    "import sqlite3"
   ]
  },
  {
   "cell_type": "code",
   "execution_count": 3,
   "metadata": {},
   "outputs": [],
   "source": [
    "db_connection = sqlite3.connect(\"../database/clean_data.db\")\n",
    "cursor = db_connection.cursor()"
   ]
  }
 ],
 "metadata": {
  "kernelspec": {
   "display_name": "governanceScraper-4bnaBexi",
   "language": "python",
   "name": "python3"
  },
  "language_info": {
   "codemirror_mode": {
    "name": "ipython",
    "version": 3
   },
   "file_extension": ".py",
   "mimetype": "text/x-python",
   "name": "python",
   "nbconvert_exporter": "python",
   "pygments_lexer": "ipython3",
   "version": "3.9.10"
  },
  "orig_nbformat": 4,
  "vscode": {
   "interpreter": {
    "hash": "93cb054567e0466a2f315adfd53be1587cef5cb3726c39b62ac81e354b9547a4"
   }
  }
 },
 "nbformat": 4,
 "nbformat_minor": 2
}
