{
 "cells": [
  {
   "cell_type": "code",
   "execution_count": 16,
   "metadata": {},
   "outputs": [],
   "source": [
    "from selenium import webdriver\n",
    "from selenium.webdriver.common.by import By\n",
    "from selenium.webdriver.support.wait import WebDriverWait\n",
    "from selenium.webdriver.support import expected_conditions as EC\n",
    "from bs4 import BeautifulSoup\n",
    "import pandas as pd\n",
    "import sqlite3\n",
    "import time"
   ]
  },
  {
   "cell_type": "code",
   "execution_count": 17,
   "metadata": {},
   "outputs": [],
   "source": [
    "db_connection = sqlite3.connect(\"DAOGovernance.db\")\n",
    "cursor = db_connection.cursor()"
   ]
  },
  {
   "cell_type": "code",
   "execution_count": 18,
   "metadata": {},
   "outputs": [
    {
     "name": "stdout",
     "output_type": "stream",
     "text": [
      "Aave\n",
      "Radicle\n",
      "NFTX\n",
      "Merit Circle\n",
      "Perpetual Protocol\n",
      "Gitcoin\n",
      "SuperRare\n",
      "Indexed\n",
      "Doodles\n",
      "Unlock\n",
      "Ampleforth\n",
      "Euler Finance\n",
      "Balancer\n",
      "ENS\n",
      "StakeWise\n",
      "Lido\n",
      "Compound\n",
      "mStable\n",
      "Proof of Humanity\n",
      "Synthetix\n",
      "Decentral Games\n",
      "Alchemix\n",
      "Bancor\n",
      "Hop DAO\n",
      "TrueFi\n",
      "Uniswap\n",
      "Silo\n",
      "Harvest Finance\n",
      "Polkadot\n",
      "Rarible\n",
      "1inch\n",
      "Developer DAO\n",
      "BitDAO\n",
      "Illuvium\n",
      "Seed Club\n",
      "Gas DAO\n"
     ]
    }
   ],
   "source": [
    "driver = webdriver.Firefox()\n",
    "driver.get(\"https://messari.io/governor/daos\")\n",
    "\n",
    "def main():\n",
    "        WebDriverWait(driver, 100).until(\n",
    "        EC.presence_of_element_located((By.CSS_SELECTOR, 'div.jss26:nth-child(1) > div:nth-child(1) > div:nth-child(1) > div:nth-child(1) > div:nth-child(1) > div:nth-child(2) > div:nth-child(1) > button:nth-child(2)'))).click()\n",
    "        \n",
    "        WebDriverWait(driver, 100).until(\n",
    "        EC.presence_of_element_located((By.CSS_SELECTOR, '.MuiTableBody-root > tr:nth-child(1)')))\n",
    "\n",
    "        driver.execute_script(\"window.scrollTo(0, document.body.scrollHeight)\")\n",
    "        time.sleep(4)\n",
    "\n",
    "        soup = BeautifulSoup(driver.page_source, \"html.parser\")\n",
    "        \n",
    "\n",
    "        dao_table = soup.find(\"tbody\", class_=\"MuiTableBody-root css-fo7z8p\")\n",
    "        dao_row = dao_table.findChildren(\"tr\", class_=\"MuiTableRow-root css-1hifdwt\")\n",
    "\n",
    "        type_list = ['Social / Community', 'Investment', 'Protocol', 'Product', 'Service', 'Grants', \n",
    "        'Media', 'Impact', 'Collector']\n",
    "\n",
    "        i = 0 \n",
    "    \n",
    "        for dao in dao_row:\n",
    "            raw_data = dao.findChildren(\"span\")\n",
    "            data_list = [i.string for i in raw_data]\n",
    "            dao_name = data_list[0]\n",
    "            dao_type = data_list[1]\n",
    "            if data_list[2] in type_list:\n",
    "                dao_tag = data_list[3]\n",
    "            else:\n",
    "                dao_tag = data_list[2]\n",
    "            select_query = f\"SELECT * FROM Governance WHERE DAO = '{dao_name}';\"\n",
    "            cursor.execute(select_query)\n",
    "            results = cursor.fetchall()\n",
    "            if results:  # If the DAO exists, update its values in the table\n",
    "                insert_vals = f\"\"\"\n",
    "                    UPDATE Governance SET\n",
    "                    `Type`= '{dao_type}',\n",
    "                    `Tag`= '{dao_tag}'\n",
    "                    WHERE DAO='{dao_name}';\n",
    "                    \"\"\"\n",
    "                cursor.execute(insert_vals)\n",
    "                db_connection.commit()\n",
    "                print(dao_name)\n",
    "        db_connection.close()\n",
    "        \n",
    "\n",
    "main()\n",
    "driver.quit()"
   ]
  }
 ],
 "metadata": {
  "kernelspec": {
   "display_name": "Python 3.9.10 64-bit",
   "language": "python",
   "name": "python3"
  },
  "language_info": {
   "codemirror_mode": {
    "name": "ipython",
    "version": 3
   },
   "file_extension": ".py",
   "mimetype": "text/x-python",
   "name": "python",
   "nbconvert_exporter": "python",
   "pygments_lexer": "ipython3",
   "version": "3.9.10"
  },
  "orig_nbformat": 4,
  "vscode": {
   "interpreter": {
    "hash": "d37735ab87abccc8139abe988438c739cb03a9d8c6c58871ebffce8beac18701"
   }
  }
 },
 "nbformat": 4,
 "nbformat_minor": 2
}
