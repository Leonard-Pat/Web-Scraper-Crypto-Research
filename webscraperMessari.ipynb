{
 "cells": [
  {
   "cell_type": "code",
   "execution_count": 4,
   "metadata": {},
   "outputs": [],
   "source": [
    "from selenium import webdriver\n",
    "from selenium.webdriver.common.by import By\n",
    "from selenium.webdriver.support.wait import WebDriverWait\n",
    "from selenium.webdriver.support import expected_conditions as EC\n",
    "from bs4 import BeautifulSoup\n",
    "import pandas as pd\n",
    "import sqlite3\n",
    "import time"
   ]
  },
  {
   "cell_type": "code",
   "execution_count": 5,
   "metadata": {},
   "outputs": [],
   "source": [
    "db_connection = sqlite3.connect(\"DAOGovernance.db\")\n",
    "cursor = db_connection.cursor()"
   ]
  },
  {
   "cell_type": "code",
   "execution_count": 6,
   "metadata": {},
   "outputs": [
    {
     "name": "stdout",
     "output_type": "stream",
     "text": [
      "['Protocol', 'DeFi']\n",
      "['Protocol', 'DeFi']\n",
      "['Product', 'Developers']\n",
      "['Product', 'DeFi']\n",
      "['Product', 'NFTs', None]\n",
      "['Investment', None, None]\n",
      "[None, 'DAO Tool', None]\n",
      "['Protocol', 'DeFi']\n",
      "['Grants', 'Education', None]\n",
      "['Protocol', 'NFTs', None]\n",
      "['Protocol', 'DeFi']\n"
     ]
    },
    {
     "ename": "TimeoutException",
     "evalue": "Message: \nStacktrace:\nRemoteError@chrome://remote/content/shared/RemoteError.sys.mjs:8:8\nWebDriverError@chrome://remote/content/shared/webdriver/Errors.sys.mjs:182:5\nNoSuchElementError@chrome://remote/content/shared/webdriver/Errors.sys.mjs:394:5\nelement.find/</<@chrome://remote/content/marionette/element.sys.mjs:280:16\n",
     "output_type": "error",
     "traceback": [
      "\u001b[1;31m---------------------------------------------------------------------------\u001b[0m",
      "\u001b[1;31mTimeoutException\u001b[0m                          Traceback (most recent call last)",
      "\u001b[1;32m~\\AppData\\Local\\Temp/ipykernel_26312/618596107.py\u001b[0m in \u001b[0;36m<module>\u001b[1;34m\u001b[0m\n\u001b[0;32m     90\u001b[0m \u001b[1;33m\u001b[0m\u001b[0m\n\u001b[0;32m     91\u001b[0m \u001b[1;33m\u001b[0m\u001b[0m\n\u001b[1;32m---> 92\u001b[1;33m \u001b[0mmain\u001b[0m\u001b[1;33m(\u001b[0m\u001b[1;33m)\u001b[0m\u001b[1;33m\u001b[0m\u001b[1;33m\u001b[0m\u001b[0m\n\u001b[0m\u001b[0;32m     93\u001b[0m \u001b[0mdriver\u001b[0m\u001b[1;33m.\u001b[0m\u001b[0mquit\u001b[0m\u001b[1;33m(\u001b[0m\u001b[1;33m)\u001b[0m\u001b[1;33m\u001b[0m\u001b[1;33m\u001b[0m\u001b[0m\n",
      "\u001b[1;32m~\\AppData\\Local\\Temp/ipykernel_26312/618596107.py\u001b[0m in \u001b[0;36mmain\u001b[1;34m()\u001b[0m\n\u001b[0;32m     15\u001b[0m \t\tWebDriverWait(driver, 100).until(\n\u001b[0;32m     16\u001b[0m \t\t\tEC.presence_of_element_located((By.CSS_SELECTOR, f\".MuiTableBody-root > tr:nth-child({i}) > td:nth-child(1) > a:nth-child(1)\"))).click()\n\u001b[1;32m---> 17\u001b[1;33m \t\tWebDriverWait(driver, 100).until(\n\u001b[0m\u001b[0;32m     18\u001b[0m \t\t\tEC.presence_of_element_located((By.CSS_SELECTOR, f\".css-kmnzss > div:nth-child(2)\")))\n\u001b[0;32m     19\u001b[0m \u001b[1;33m\u001b[0m\u001b[0m\n",
      "\u001b[1;32mc:\\Users\\Leo\\AppData\\Local\\Programs\\Python\\Python39\\lib\\site-packages\\selenium\\webdriver\\support\\wait.py\u001b[0m in \u001b[0;36muntil\u001b[1;34m(self, method, message)\u001b[0m\n\u001b[0;32m     87\u001b[0m             \u001b[1;32mif\u001b[0m \u001b[0mtime\u001b[0m\u001b[1;33m.\u001b[0m\u001b[0mtime\u001b[0m\u001b[1;33m(\u001b[0m\u001b[1;33m)\u001b[0m \u001b[1;33m>\u001b[0m \u001b[0mend_time\u001b[0m\u001b[1;33m:\u001b[0m\u001b[1;33m\u001b[0m\u001b[1;33m\u001b[0m\u001b[0m\n\u001b[0;32m     88\u001b[0m                 \u001b[1;32mbreak\u001b[0m\u001b[1;33m\u001b[0m\u001b[1;33m\u001b[0m\u001b[0m\n\u001b[1;32m---> 89\u001b[1;33m         \u001b[1;32mraise\u001b[0m \u001b[0mTimeoutException\u001b[0m\u001b[1;33m(\u001b[0m\u001b[0mmessage\u001b[0m\u001b[1;33m,\u001b[0m \u001b[0mscreen\u001b[0m\u001b[1;33m,\u001b[0m \u001b[0mstacktrace\u001b[0m\u001b[1;33m)\u001b[0m\u001b[1;33m\u001b[0m\u001b[1;33m\u001b[0m\u001b[0m\n\u001b[0m\u001b[0;32m     90\u001b[0m \u001b[1;33m\u001b[0m\u001b[0m\n\u001b[0;32m     91\u001b[0m     \u001b[1;32mdef\u001b[0m \u001b[0muntil_not\u001b[0m\u001b[1;33m(\u001b[0m\u001b[0mself\u001b[0m\u001b[1;33m,\u001b[0m \u001b[0mmethod\u001b[0m\u001b[1;33m,\u001b[0m \u001b[0mmessage\u001b[0m\u001b[1;33m=\u001b[0m\u001b[1;34m''\u001b[0m\u001b[1;33m)\u001b[0m\u001b[1;33m:\u001b[0m\u001b[1;33m\u001b[0m\u001b[1;33m\u001b[0m\u001b[0m\n",
      "\u001b[1;31mTimeoutException\u001b[0m: Message: \nStacktrace:\nRemoteError@chrome://remote/content/shared/RemoteError.sys.mjs:8:8\nWebDriverError@chrome://remote/content/shared/webdriver/Errors.sys.mjs:182:5\nNoSuchElementError@chrome://remote/content/shared/webdriver/Errors.sys.mjs:394:5\nelement.find/</<@chrome://remote/content/marionette/element.sys.mjs:280:16\n"
     ]
    }
   ],
   "source": [
    "driver = webdriver.Firefox()\n",
    "driver.get(\"https://messari.io/governor/daos\")\n",
    "\n",
    "\n",
    "def scroll(num):\n",
    "\tfor _ in range(0,num):\n",
    "\t\tdriver.execute_script(\"window.scrollTo(0, document.body.scrollHeight)\")\n",
    "\t\ttime.sleep(4)\n",
    "\n",
    "\n",
    "def main():\n",
    "\tWebDriverWait(driver, 100).until(\n",
    "\t\t\tEC.presence_of_element_located((By.CSS_SELECTOR, 'div.jss26:nth-child(1) > div:nth-child(1) > div:nth-child(1) > div:nth-child(1) > div:nth-child(1) > div:nth-child(2) > div:nth-child(1) > button:nth-child(2)'))).click()\n",
    "\tfor i in range(1,100):\n",
    "\t\tWebDriverWait(driver, 100).until(\n",
    "\t\t\tEC.presence_of_element_located((By.CSS_SELECTOR, f\".MuiTableBody-root > tr:nth-child({i}) > td:nth-child(1) > a:nth-child(1)\"))).click()\n",
    "\t\tWebDriverWait(driver, 100).until(\n",
    "\t\t\tEC.presence_of_element_located((By.CSS_SELECTOR, f\".css-kmnzss > div:nth-child(2)\")))\n",
    "\t\t\n",
    "\t\ttime.sleep(4)\n",
    "\t\tget_tag_and_type()\n",
    "\t\t\n",
    "\t\tif i > 20:\n",
    "\t\t\tscroll()\n",
    "\t\t\tget_tag_and_type()\n",
    "\t\t\n",
    "\t\telif i > 40:\n",
    "\t\t\tscroll(2)\n",
    "\t\t\tget_tag_and_type()\n",
    "\n",
    "\t\ttime.sleep(10)\n",
    "\t\tdriver.get(\"https://messari.io/governor/daos\")\n",
    "\t\n",
    "\tdb_connection.close()\n",
    "\n",
    "def find_dao_helper(soup):\n",
    "\tgov_div = soup.findAll(\"div\", class_='MuiBox-root css-j7qwjs')[2]\n",
    "\tgov_div_children = gov_div.findChildren(\"div\")\n",
    "\tname_and_price = [i.string for i in gov_div_children][0]\n",
    "\tdao_name = name_and_price.split()[0]\n",
    "\treturn dao_name\n",
    "\n",
    "\n",
    "def get_tag_and_type():\n",
    "\t\n",
    "\tsoup = BeautifulSoup(driver.page_source, \"html.parser\")\n",
    "\tdao_name = find_dao_helper(soup)\n",
    "\n",
    "\ttype_div = soup.find(\"div\", class_='MuiBox-root css-1qocved')\n",
    "\tdao_type = type_div.findChildren(\"span\")[0].string\n",
    "\n",
    "\ttag_div = soup.find(\"div\", class_='MuiBox-root css-j7qwjs')\n",
    "\tdao_tag = tag_div.findChildren(\"span\")[0].string\n",
    "\n",
    "\n",
    "\tl = soup.find('div', class_='MuiBox-root css-1wvvhxi')\n",
    "\tk = l.findChildren('div', class_='MuiBox-root css-1qocved')\n",
    "\tprint([i.string for i in k])\n",
    "\t\n",
    "\t# dao_table = soup.find(\"tbody\", class_=\"MuiTableBody-root css-fo7z8p\")\n",
    "\t# dao_row = dao_table.findChildren(\"tr\", class_=\"MuiTableRow-root css-1hifdwt\")\n",
    "\n",
    "\t# type_list = ['Social / Community', 'Investment', 'Protocol', 'Product', 'Service', 'Grants', \n",
    "\t# 'Media', 'Impact', 'Collector']\n",
    "\n",
    "\t# i = 0 \n",
    "\n",
    "\t# for dao in dao_row:\n",
    "\t# \traw_data = dao.findChildren(\"span\")\n",
    "\t# \tdata_list = [i.string for i in raw_data]\n",
    "\t# \tdao_type = data_list[1]\n",
    "\t# \tif data_list[2] in type_list:\n",
    "\t# \t\tdao_tag = data_list[3]\n",
    "\t# \telse:\n",
    "\t# \t\tdao_tag = data_list[2]\n",
    "\t# \tselect_query = f\"SELECT * FROM Governance WHERE DAO = '{dao_name}';\"\n",
    "\t# \tcursor.execute(select_query)\n",
    "\t# \tresults = cursor.fetchall()\n",
    "\t# \tif results:  # If the DAO exists, update its values in the table\n",
    "\t# \t\tinsert_vals = f\"\"\"\n",
    "\t# \t\t\tUPDATE Governance SET\n",
    "\t# \t\t\t`Type`= '{dao_type}',\n",
    "\t# \t\t\t`Tag`= '{dao_tag}'\n",
    "\t# \t\t\tWHERE DAO='{dao_name}';\n",
    "\t# \t\t\t\"\"\"\n",
    "\t# \t\tcursor.execute(insert_vals)\n",
    "\t# \t\tdb_connection.commit()\n",
    "\t# \t\tprint(dao_name)\n",
    "\t\n",
    "\t\t\n",
    "\n",
    "main()\n",
    "driver.quit()"
   ]
  }
 ],
 "metadata": {
  "kernelspec": {
   "display_name": "Python 3.9.10 64-bit",
   "language": "python",
   "name": "python3"
  },
  "language_info": {
   "codemirror_mode": {
    "name": "ipython",
    "version": 3
   },
   "file_extension": ".py",
   "mimetype": "text/x-python",
   "name": "python",
   "nbconvert_exporter": "python",
   "pygments_lexer": "ipython3",
   "version": "3.9.10"
  },
  "orig_nbformat": 4,
  "vscode": {
   "interpreter": {
    "hash": "d37735ab87abccc8139abe988438c739cb03a9d8c6c58871ebffce8beac18701"
   }
  }
 },
 "nbformat": 4,
 "nbformat_minor": 2
}
